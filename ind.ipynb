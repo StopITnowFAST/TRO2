{
 "cells": [
  {
   "cell_type": "markdown",
   "id": "6f4f77f3",
   "metadata": {},
   "source": [
    "Дана целочисленная прямоугольная матрица. Определить количество столбцов, не\n",
    "содержащих ни одного нулевого элемента. Характеристикой строки целочисленной матрицы\n",
    "назовем сумму ее положительных четных элементов. Переставляя строки заданной\n",
    "матрицы, расположить их в соответствии с ростом характеристик."
   ]
  },
  {
   "cell_type": "code",
   "execution_count": 2,
   "id": "33ac8d99",
   "metadata": {},
   "outputs": [
    {
     "data": {
      "text/plain": [
       "matrix([[ 1,  0,  0,  4],\n",
       "        [ 5,  6,  7, 10],\n",
       "        [ 9,  1,  5,  7]])"
      ]
     },
     "execution_count": 2,
     "metadata": {},
     "output_type": "execute_result"
    }
   ],
   "source": [
    "import numpy as np\n",
    "m = np.matrix('1 0 0 4; 5 6 7 10; 9 1 5 7')\n",
    "m"
   ]
  },
  {
   "cell_type": "code",
   "execution_count": 28,
   "id": "f8d66e6b",
   "metadata": {},
   "outputs": [
    {
     "name": "stdout",
     "output_type": "stream",
     "text": [
      "2 - количество строк без 0\n"
     ]
    }
   ],
   "source": [
    "m[m != 0] = 1\n",
    "ans = m.prod(axis = 0).sum()\n",
    "print(f\"{ans} - количество строк без 0\")"
   ]
  },
  {
   "cell_type": "code",
   "execution_count": 31,
   "id": "97321ce7",
   "metadata": {
    "scrolled": true
   },
   "outputs": [
    {
     "name": "stdout",
     "output_type": "stream",
     "text": [
      "[[[ 1  0  0  4]]\n",
      "\n",
      " [[ 9  1  5  7]]\n",
      "\n",
      " [[ 5  6  7 10]]]\n"
     ]
    }
   ],
   "source": [
    "m = np.matrix('1 0 0 4; 5 6 7 10; 9 1 5 7')\n",
    "stat = m.sum(axis=1)\n",
    "ans = m[stat.argsort(axis=0)]\n",
    "print(ans)"
   ]
  }
 ],
 "metadata": {
  "kernelspec": {
   "display_name": "Python 3 (ipykernel)",
   "language": "python",
   "name": "python3"
  },
  "language_info": {
   "codemirror_mode": {
    "name": "ipython",
    "version": 3
   },
   "file_extension": ".py",
   "mimetype": "text/x-python",
   "name": "python",
   "nbconvert_exporter": "python",
   "pygments_lexer": "ipython3",
   "version": "3.9.13"
  }
 },
 "nbformat": 4,
 "nbformat_minor": 5
}
