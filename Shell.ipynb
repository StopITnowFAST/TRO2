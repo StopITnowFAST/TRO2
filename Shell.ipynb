{
 "cells": [
  {
   "cell_type": "markdown",
   "id": "9082a8f7",
   "metadata": {},
   "source": [
    "Сортировка Шелла"
   ]
  },
  {
   "cell_type": "code",
   "execution_count": 23,
   "id": "bd64c61d",
   "metadata": {},
   "outputs": [
    {
     "data": {
      "text/plain": [
       "[95, 54, 65, 38, 91]"
      ]
     },
     "execution_count": 23,
     "metadata": {},
     "output_type": "execute_result"
    }
   ],
   "source": [
    "from random import randint\n",
    "import math\n",
    "\n",
    "N = 5\n",
    "\n",
    "lst = [randint(0, 100) for i in range(N)]\n",
    "lst"
   ]
  },
  {
   "cell_type": "code",
   "execution_count": 24,
   "id": "aa2a70b3",
   "metadata": {},
   "outputs": [],
   "source": [
    "def shell(array):\n",
    "    k = int(math.log2(N))\n",
    "    print(k)\n",
    "    interval = 2**k -1\n",
    "    \n",
    "    while interval > 0:\n",
    "        for i in range(interval, N):\n",
    "            temp = array[i]\n",
    "            j = i\n",
    "            \n",
    "            while j >= interval and array[j - interval] > temp:\n",
    "                array[j] = array[j - interval]\n",
    "                j -= interval\n",
    "                \n",
    "            array[j] = temp\n",
    "            \n",
    "        k -= 1\n",
    "        interval = 2**k -1\n",
    "        \n",
    "    return array     "
   ]
  },
  {
   "cell_type": "code",
   "execution_count": 25,
   "id": "5b1fd1c7",
   "metadata": {},
   "outputs": [
    {
     "name": "stdout",
     "output_type": "stream",
     "text": [
      "2\n"
     ]
    },
    {
     "data": {
      "text/plain": [
       "[38, 54, 65, 91, 95]"
      ]
     },
     "execution_count": 25,
     "metadata": {},
     "output_type": "execute_result"
    }
   ],
   "source": [
    "shell(lst)\n",
    "lst"
   ]
  },
  {
   "cell_type": "code",
   "execution_count": null,
   "id": "08574ea2",
   "metadata": {},
   "outputs": [],
   "source": []
  }
 ],
 "metadata": {
  "kernelspec": {
   "display_name": "Python 3 (ipykernel)",
   "language": "python",
   "name": "python3"
  },
  "language_info": {
   "codemirror_mode": {
    "name": "ipython",
    "version": 3
   },
   "file_extension": ".py",
   "mimetype": "text/x-python",
   "name": "python",
   "nbconvert_exporter": "python",
   "pygments_lexer": "ipython3",
   "version": "3.9.13"
  }
 },
 "nbformat": 4,
 "nbformat_minor": 5
}
