{
 "cells": [
  {
   "cell_type": "markdown",
   "id": "9082a8f7",
   "metadata": {},
   "source": [
    "Задан район поиска парашютиста, представляющий собой квадрат со\n",
    "стороной 5 км. В районе поиска находится озеро, поверхность которого\n",
    "можно приближенно считать совпадающей с поверхностью круга радиуса R\n",
    "= 1 км. Предполагая, что парашютист мог приземлиться в любой точке\n",
    "рассматриваемого квадрата, найти вероятность того, что парашютист\n",
    "приводнился на поверхность озера."
   ]
  },
  {
   "cell_type": "code",
   "execution_count": 3,
   "id": "bd64c61d",
   "metadata": {},
   "outputs": [
    {
     "name": "stdout",
     "output_type": "stream",
     "text": [
      "Вероятность - 0.12566370614359174\n"
     ]
    }
   ],
   "source": [
    "import numpy as np\n",
    "r = 1\n",
    "Scir = np.pi * 1 * 1\n",
    "Ssqr = 5 * 5\n",
    "p = Scir / Ssqr\n",
    "print(f\"Вероятность - {p}\")"
   ]
  },
  {
   "cell_type": "code",
   "execution_count": null,
   "id": "aa2a70b3",
   "metadata": {},
   "outputs": [],
   "source": []
  }
 ],
 "metadata": {
  "kernelspec": {
   "display_name": "Python 3 (ipykernel)",
   "language": "python",
   "name": "python3"
  },
  "language_info": {
   "codemirror_mode": {
    "name": "ipython",
    "version": 3
   },
   "file_extension": ".py",
   "mimetype": "text/x-python",
   "name": "python",
   "nbconvert_exporter": "python",
   "pygments_lexer": "ipython3",
   "version": "3.9.13"
  }
 },
 "nbformat": 4,
 "nbformat_minor": 5
}
