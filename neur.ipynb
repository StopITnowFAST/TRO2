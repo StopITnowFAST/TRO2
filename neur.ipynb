{
 "cells": [
  {
   "cell_type": "markdown",
   "id": "87bd399d",
   "metadata": {},
   "source": [
    "# Тестирование работы нейросети считывания цифр на Python на основе набора MNIST\n",
    "Написанная нейросеть считывает набор тренировочных данных из 100 элементов MNIST. На основе тренировочного набора производится считывание 10 символов и сравнивается с результатом работы нейросети\n",
    "\n",
    "Обновление весов высчитывается по формуле $ ΔW = a * E * Сигмоида(О) (1 - Сигмоида(O)) * O^T$\n",
    "\n"
   ]
  },
  {
   "cell_type": "markdown",
   "id": "226feafe",
   "metadata": {},
   "source": [
    "### Описание\n",
    "Нейросеть состоит из 784 входных узлов (по одному на каждый пиксель), 100 скрытых узлов и 10 выходных узлов (по одному на цифру).\n",
    "\n",
    "Код:"
   ]
  },
  {
   "cell_type": "code",
   "execution_count": 59,
   "id": "67247455",
   "metadata": {},
   "outputs": [],
   "source": [
    "import numpy\n",
    "import scipy\n",
    "import matplotlib.pyplot\n",
    "\n",
    "\n",
    "class NeuralNetwork:\n",
    "    def __init__(self, inputNodes, hiddenNodes, outputNodes, learningGrate):\n",
    "        # Задать количество узлов в слоях\n",
    "        self.inodes = inputNodes\n",
    "        self.hnodes = hiddenNodes\n",
    "        self.onodes = outputNodes\n",
    "\n",
    "        # Коэффицент обучения\n",
    "        self.lr = learningGrate\n",
    "\n",
    "        # Матрицы весов\n",
    "        self.wih = (numpy.random.rand(self.hnodes, self.inodes) - 0.5)\n",
    "        self.who = (numpy.random.rand(self.onodes, self.hnodes) - 0.5)\n",
    "\n",
    "        # Сигмоида\n",
    "        self.activation_function = lambda x: scipy.special.expit(x)\n",
    "\n",
    "        pass\n",
    "\n",
    "    def train(self, inputs_list, targets_list):\n",
    "        # преобразовать список входных значений в двухмерный массив\n",
    "        inputs = numpy.array(inputs_list, ndmin=2).T\n",
    "        targets = numpy.array(targets_list, ndmin=2).T\n",
    "\n",
    "        # рассчитать входящие сигналы для скрытого слоя\n",
    "        hidden_inputs = numpy.dot(self.wih, inputs)\n",
    "        # рассчитать исходящие сигналы для скрытого слоя\n",
    "        hidden_outputs = self.activation_function(hidden_inputs)\n",
    "\n",
    "        # рассчитать входящие сигналы для выходного слоя\n",
    "        final_inputs = numpy.dot(self.who, hidden_outputs)\n",
    "        # рассчитать исходящие сигналы для выходного слоя\n",
    "        final_outputs = self.activation_function(final_inputs)\n",
    "\n",
    "        # Поиск ошибки\n",
    "        output_errors = targets - final_outputs\n",
    "        hidden_errors = numpy.dot(self.who.T, output_errors)\n",
    "        self.who += self.lr * numpy.dot((output_errors * final_outputs *\n",
    "                                         (1.0 - final_outputs)), numpy.transpose(hidden_outputs))\n",
    "\n",
    "        self.wih += self.lr * numpy.dot((hidden_errors * hidden_outputs *\n",
    "                                         (1.0 - hidden_outputs)), numpy.transpose(inputs))\n",
    "\n",
    "        pass\n",
    "\n",
    "    def query(self, inputs_list):\n",
    "        # Преобразовать входные значения в массив\n",
    "        inputs = numpy.array(inputs_list, ndmin=2).T\n",
    "\n",
    "        # Расчитать входящие сигналы для скрытого слоя\n",
    "        hidden_inputs = numpy.dot(self.wih, inputs)\n",
    "        # Расчитать исходящие сигналы для скрытого слоя\n",
    "        hidden_outputs = self.activation_function(hidden_inputs)\n",
    "\n",
    "        # Расчитать входящие сигналы для выходного слоя\n",
    "        final_inputs = numpy.dot(self.who, hidden_outputs)\n",
    "        # Расчитать исходящие сигналы для выходного слоя\n",
    "        final_outputs = self.activation_function(final_inputs)\n",
    "\n",
    "        return final_outputs"
   ]
  },
  {
   "cell_type": "markdown",
   "id": "0490ee1e",
   "metadata": {},
   "source": [
    "Укажем количество узлов"
   ]
  },
  {
   "cell_type": "code",
   "execution_count": 60,
   "id": "9601fcec",
   "metadata": {},
   "outputs": [],
   "source": [
    "input_nodes = 784\n",
    "hidden_nodes = 100\n",
    "output_nodes = 10\n",
    "learning_rate = 0.3\n",
    "\n",
    "n = NeuralNetwork(input_nodes, hidden_nodes, output_nodes, learning_rate)"
   ]
  },
  {
   "cell_type": "markdown",
   "id": "86be29f8",
   "metadata": {},
   "source": [
    "Существует коллекция изображений рукописных цифр, используемых исследователями искусственного интеллекта в качестве популярного набора для тестирования идей и алгоритмов.\n",
    "\n",
    "Этим тестовым набором является база данных рукописных цифр\n",
    "под названием “MNIST”\n",
    "\n",
    "1. Первое значение — это маркер, т.е. фактическая цифра, например “7” или “9” которую должен представлять данный рукописный экземпляр. Это ответ, правильному получению которого должна обучиться нейронная сеть.\n",
    "2. Последующие значения, разделенные запятыми, — это значения пикселей рукописной цифры. Пиксельный массив имеет размерность 28x28, поэтому за каждым маркером следуют 784 пикселя. \n",
    "\n",
    "Считываем 10 тестовых значений MNIST"
   ]
  },
  {
   "cell_type": "code",
   "execution_count": 61,
   "id": "3d2c268a",
   "metadata": {},
   "outputs": [],
   "source": [
    "test_data_file = open(\"mnist_test_10.csv\", 'r')\n",
    "data_list = test_data_file.readlines()\n",
    "test_data_file.close()"
   ]
  },
  {
   "cell_type": "markdown",
   "id": "23aa24bf",
   "metadata": {},
   "source": [
    "Первый символ в каждой строке указывает какой символ зашифрован"
   ]
  },
  {
   "cell_type": "code",
   "execution_count": 62,
   "id": "2a31cd4d",
   "metadata": {},
   "outputs": [
    {
     "name": "stdout",
     "output_type": "stream",
     "text": [
      "2\n"
     ]
    }
   ],
   "source": [
    "all_values = data_list[1].split(',')\n",
    "print(all_values[0])"
   ]
  },
  {
   "cell_type": "markdown",
   "id": "c72e183f",
   "metadata": {},
   "source": [
    "Выведем весь набор значений, чтобы просмотреть как выглядит цифра в программе"
   ]
  },
  {
   "cell_type": "code",
   "execution_count": 63,
   "id": "2f37f0f9",
   "metadata": {
    "scrolled": true
   },
   "outputs": [
    {
     "data": {
      "text/plain": [
       "<matplotlib.image.AxesImage at 0x27071937c70>"
      ]
     },
     "execution_count": 63,
     "metadata": {},
     "output_type": "execute_result"
    },
    {
     "data": {
      "image/png": "[encoded data removed]",
      "text/plain": [
       "<Figure size 640x480 with 1 Axes>"
      ]
     },
     "metadata": {},
     "output_type": "display_data"
    }
   ],
   "source": [
    "image_array = numpy.asfarray(all_values[1:]).reshape((28,28))\n",
    "matplotlib.pyplot.imshow(image_array, cmap='Greys', interpolation='None')"
   ]
  },
  {
   "cell_type": "markdown",
   "id": "72287e64",
   "metadata": {},
   "source": [
    "Обучим нейросеть на основе 100 элементов набора MNIST"
   ]
  },
  {
   "cell_type": "code",
   "execution_count": 64,
   "id": "281c19b2",
   "metadata": {},
   "outputs": [],
   "source": [
    "training_data_file = open(\"mnist_train_100.csv\", 'r')\n",
    "training_data_list = training_data_file.readlines()\n",
    "training_data_file.close()\n",
    "\n",
    "for record in training_data_list:\n",
    "    all_values = record.split(',')\n",
    "    inputs = (numpy.asfarray(all_values[1:]) / 255.0 * 0.99) + 0.01\n",
    "    targets = numpy.zeros(output_nodes) + 0.01\n",
    "    targets[int(all_values[0])] = 0.99\n",
    "    n.train(inputs, targets)\n",
    "    pass"
   ]
  },
  {
   "cell_type": "markdown",
   "id": "63f8533e",
   "metadata": {},
   "source": [
    "мы создаем пустой список scorecard, который будет\n",
    "служить нам журналом оценок работы сети, обновляемым после обработки каждой записи.\n",
    "\n",
    "Данная переменная будет служить счетчиком правильных значений"
   ]
  },
  {
   "cell_type": "code",
   "execution_count": 65,
   "id": "8878575c",
   "metadata": {},
   "outputs": [
    {
     "name": "stdout",
     "output_type": "stream",
     "text": [
      "7 истинный маркер\n",
      "7 ответ сети\n",
      "2 истинный маркер\n",
      "3 ответ сети\n",
      "1 истинный маркер\n",
      "1 ответ сети\n",
      "0 истинный маркер\n",
      "0 ответ сети\n",
      "4 истинный маркер\n",
      "4 ответ сети\n",
      "1 истинный маркер\n",
      "1 ответ сети\n",
      "4 истинный маркер\n",
      "4 ответ сети\n",
      "9 истинный маркер\n",
      "3 ответ сети\n",
      "5 истинный маркер\n",
      "4 ответ сети\n",
      "9 истинный маркер\n",
      "7 ответ сети\n"
     ]
    }
   ],
   "source": [
    "scorecard = []\n",
    "\n",
    "for record in data_list:\n",
    "    # получить список значений из записи, используя символы\n",
    "    # запятой (*,1) в качестве разделителей\n",
    "    all_values = record.split(',')\n",
    "    # правильный ответ - первое значение\n",
    "    correct_label = int(all_values[0])\n",
    "    print(correct_label, \"истинный маркер\")\n",
    "    # масштабировать и сместить входные значения\n",
    "    inputs = (numpy.asfarray(all_values[1:]) / 255.0 * 0.99) + 0.01\n",
    "    # опрос сети\n",
    "    outputs = n.query(inputs)\n",
    "    # индекс наибольшего значения является маркерным значением\n",
    "    label = numpy.argmax(outputs)\n",
    "    print(label, \"ответ сети\")\n",
    "    # присоединить оценку ответа сети к концу списка\n",
    "    if (label == correct_label):\n",
    "        # в случае правильного ответа сети присоединить\n",
    "        # к списку значение 1\n",
    "        scorecard.append(1)\n",
    "    else:\n",
    "        # в случае неправильного ответа сети присоединить\n",
    "        # к списку значение 0\n",
    "        scorecard.append(0)\n",
    "        pass\n",
    "    pass"
   ]
  },
  {
   "cell_type": "code",
   "execution_count": 66,
   "id": "1130e407",
   "metadata": {},
   "outputs": [
    {
     "data": {
      "text/plain": [
       "[1, 0, 1, 1, 1, 1, 1, 0, 0, 0]"
      ]
     },
     "execution_count": 66,
     "metadata": {},
     "output_type": "execute_result"
    }
   ],
   "source": [
    "scorecard"
   ]
  },
  {
   "cell_type": "markdown",
   "id": "715979b5",
   "metadata": {},
   "source": [
    "Таким образом видно что нейросеть на основе 100 тренировчных данных смогла определить правильно 6 из 10 символов, что составляет 60%"
   ]
  },
  {
   "cell_type": "code",
   "execution_count": null,
   "id": "1459ff55",
   "metadata": {},
   "outputs": [],
   "source": []
  }
 ],
 "metadata": {
  "kernelspec": {
   "display_name": "Python 3 (ipykernel)",
   "language": "python",
   "name": "python3"
  },
  "language_info": {
   "codemirror_mode": {
    "name": "ipython",
    "version": 3
   },
   "file_extension": ".py",
   "mimetype": "text/x-python",
   "name": "python",
   "nbconvert_exporter": "python",
   "pygments_lexer": "ipython3",
   "version": "3.9.13"
  }
 },
 "nbformat": 4,
 "nbformat_minor": 5
}
